{
 "cells": [
  {
   "cell_type": "code",
   "execution_count": 1,
   "id": "3ad0747f",
   "metadata": {},
   "outputs": [],
   "source": [
    "import pandas as pd\n",
    "import matplotlib.pyplot as plt\n",
    "%matplotlib inline"
   ]
  },
  {
   "cell_type": "code",
   "execution_count": 3,
   "id": "77020b01",
   "metadata": {},
   "outputs": [
    {
     "data": {
      "text/html": [
       "<div>\n",
       "<style scoped>\n",
       "    .dataframe tbody tr th:only-of-type {\n",
       "        vertical-align: middle;\n",
       "    }\n",
       "\n",
       "    .dataframe tbody tr th {\n",
       "        vertical-align: top;\n",
       "    }\n",
       "\n",
       "    .dataframe thead th {\n",
       "        text-align: right;\n",
       "    }\n",
       "</style>\n",
       "<table border=\"1\" class=\"dataframe\">\n",
       "  <thead>\n",
       "    <tr style=\"text-align: right;\">\n",
       "      <th></th>\n",
       "      <th>Date</th>\n",
       "      <th>Open</th>\n",
       "      <th>High</th>\n",
       "      <th>Low</th>\n",
       "      <th>Close</th>\n",
       "      <th>Adj Close</th>\n",
       "      <th>Volume</th>\n",
       "    </tr>\n",
       "  </thead>\n",
       "  <tbody>\n",
       "    <tr>\n",
       "      <th>0</th>\n",
       "      <td>2021-05-28</td>\n",
       "      <td>38507.082031</td>\n",
       "      <td>38856.968750</td>\n",
       "      <td>34779.039063</td>\n",
       "      <td>35697.605469</td>\n",
       "      <td>35697.605469</td>\n",
       "      <td>55200191952</td>\n",
       "    </tr>\n",
       "    <tr>\n",
       "      <th>1</th>\n",
       "      <td>2021-05-29</td>\n",
       "      <td>35684.156250</td>\n",
       "      <td>37234.500000</td>\n",
       "      <td>33693.929688</td>\n",
       "      <td>34616.066406</td>\n",
       "      <td>34616.066406</td>\n",
       "      <td>45231013335</td>\n",
       "    </tr>\n",
       "    <tr>\n",
       "      <th>2</th>\n",
       "      <td>2021-05-30</td>\n",
       "      <td>34607.406250</td>\n",
       "      <td>36400.667969</td>\n",
       "      <td>33520.738281</td>\n",
       "      <td>35678.128906</td>\n",
       "      <td>35678.128906</td>\n",
       "      <td>31646080921</td>\n",
       "    </tr>\n",
       "    <tr>\n",
       "      <th>3</th>\n",
       "      <td>2021-05-31</td>\n",
       "      <td>35658.593750</td>\n",
       "      <td>37468.250000</td>\n",
       "      <td>34241.945313</td>\n",
       "      <td>37332.855469</td>\n",
       "      <td>37332.855469</td>\n",
       "      <td>39009847639</td>\n",
       "    </tr>\n",
       "    <tr>\n",
       "      <th>4</th>\n",
       "      <td>2021-06-01</td>\n",
       "      <td>37293.792969</td>\n",
       "      <td>37896.734375</td>\n",
       "      <td>35787.085938</td>\n",
       "      <td>36684.925781</td>\n",
       "      <td>36684.925781</td>\n",
       "      <td>34639423297</td>\n",
       "    </tr>\n",
       "  </tbody>\n",
       "</table>\n",
       "</div>"
      ],
      "text/plain": [
       "         Date          Open          High           Low         Close  \\\n",
       "0  2021-05-28  38507.082031  38856.968750  34779.039063  35697.605469   \n",
       "1  2021-05-29  35684.156250  37234.500000  33693.929688  34616.066406   \n",
       "2  2021-05-30  34607.406250  36400.667969  33520.738281  35678.128906   \n",
       "3  2021-05-31  35658.593750  37468.250000  34241.945313  37332.855469   \n",
       "4  2021-06-01  37293.792969  37896.734375  35787.085938  36684.925781   \n",
       "\n",
       "      Adj Close       Volume  \n",
       "0  35697.605469  55200191952  \n",
       "1  34616.066406  45231013335  \n",
       "2  35678.128906  31646080921  \n",
       "3  37332.855469  39009847639  \n",
       "4  36684.925781  34639423297  "
      ]
     },
     "execution_count": 3,
     "metadata": {},
     "output_type": "execute_result"
    }
   ],
   "source": [
    "btc_dataframe = pd.read_csv(\"btc_usd.csv\")\n",
    "btc_dataframe.head()"
   ]
  },
  {
   "cell_type": "code",
   "execution_count": 9,
   "id": "724351b3",
   "metadata": {},
   "outputs": [
    {
     "data": {
      "text/html": [
       "<div>\n",
       "<style scoped>\n",
       "    .dataframe tbody tr th:only-of-type {\n",
       "        vertical-align: middle;\n",
       "    }\n",
       "\n",
       "    .dataframe tbody tr th {\n",
       "        vertical-align: top;\n",
       "    }\n",
       "\n",
       "    .dataframe thead th {\n",
       "        text-align: right;\n",
       "    }\n",
       "</style>\n",
       "<table border=\"1\" class=\"dataframe\">\n",
       "  <thead>\n",
       "    <tr style=\"text-align: right;\">\n",
       "      <th></th>\n",
       "      <th>Date</th>\n",
       "      <th>Open</th>\n",
       "      <th>High</th>\n",
       "      <th>Low</th>\n",
       "      <th>Close</th>\n",
       "      <th>Adj Close</th>\n",
       "      <th>Volume</th>\n",
       "    </tr>\n",
       "  </thead>\n",
       "  <tbody>\n",
       "    <tr>\n",
       "      <th>361</th>\n",
       "      <td>2022-05-24</td>\n",
       "      <td>29101.125000</td>\n",
       "      <td>29774.355469</td>\n",
       "      <td>28786.589844</td>\n",
       "      <td>29655.585938</td>\n",
       "      <td>29655.585938</td>\n",
       "      <td>26616506245</td>\n",
       "    </tr>\n",
       "    <tr>\n",
       "      <th>362</th>\n",
       "      <td>2022-05-25</td>\n",
       "      <td>29653.134766</td>\n",
       "      <td>30157.785156</td>\n",
       "      <td>29384.949219</td>\n",
       "      <td>29562.361328</td>\n",
       "      <td>29562.361328</td>\n",
       "      <td>27525063551</td>\n",
       "    </tr>\n",
       "    <tr>\n",
       "      <th>363</th>\n",
       "      <td>2022-05-26</td>\n",
       "      <td>29564.777344</td>\n",
       "      <td>29834.160156</td>\n",
       "      <td>28261.906250</td>\n",
       "      <td>29267.224609</td>\n",
       "      <td>29267.224609</td>\n",
       "      <td>36774325352</td>\n",
       "    </tr>\n",
       "    <tr>\n",
       "      <th>364</th>\n",
       "      <td>2022-05-27</td>\n",
       "      <td>29251.140625</td>\n",
       "      <td>29346.943359</td>\n",
       "      <td>28326.613281</td>\n",
       "      <td>28627.574219</td>\n",
       "      <td>28627.574219</td>\n",
       "      <td>36582005748</td>\n",
       "    </tr>\n",
       "    <tr>\n",
       "      <th>365</th>\n",
       "      <td>2022-05-28</td>\n",
       "      <td>28625.187500</td>\n",
       "      <td>28899.552734</td>\n",
       "      <td>28569.187500</td>\n",
       "      <td>28873.148438</td>\n",
       "      <td>28873.148438</td>\n",
       "      <td>31863226368</td>\n",
       "    </tr>\n",
       "  </tbody>\n",
       "</table>\n",
       "</div>"
      ],
      "text/plain": [
       "           Date          Open          High           Low         Close  \\\n",
       "361  2022-05-24  29101.125000  29774.355469  28786.589844  29655.585938   \n",
       "362  2022-05-25  29653.134766  30157.785156  29384.949219  29562.361328   \n",
       "363  2022-05-26  29564.777344  29834.160156  28261.906250  29267.224609   \n",
       "364  2022-05-27  29251.140625  29346.943359  28326.613281  28627.574219   \n",
       "365  2022-05-28  28625.187500  28899.552734  28569.187500  28873.148438   \n",
       "\n",
       "        Adj Close       Volume  \n",
       "361  29655.585938  26616506245  \n",
       "362  29562.361328  27525063551  \n",
       "363  29267.224609  36774325352  \n",
       "364  28627.574219  36582005748  \n",
       "365  28873.148438  31863226368  "
      ]
     },
     "execution_count": 9,
     "metadata": {},
     "output_type": "execute_result"
    }
   ],
   "source": [
    "btc_dataframe.tail()"
   ]
  },
  {
   "cell_type": "code",
   "execution_count": 6,
   "id": "455204b9",
   "metadata": {},
   "outputs": [],
   "source": [
    "x = btc_dataframe[\"Date\"]\n",
    "y1 = btc_dataframe[\"Open\"]\n",
    "y2 = btc_dataframe[\"Close\"]\n"
   ]
  },
  {
   "cell_type": "code",
   "execution_count": null,
   "id": "26180c6f",
   "metadata": {},
   "outputs": [],
   "source": [
    "## create plt figure and plot\n",
    "\n",
    "plt.figure(figsize=(15,8), dpi=100)\n",
    "\n",
    "## first subplot\n",
    "\n",
    "plt.subplot(1,2,1)\n",
    "plt.plot(x,y1, \"r--\")\n",
    "plt.xlabel(\"Date\")\n",
    "plt.ylabel(\"Price\")\n",
    "plt.title(\"Open market value - STOCK Daily\")\n",
    "\n",
    "\n",
    "## second subplot\n",
    "\n",
    "plt.subplot(1,2,2)\n",
    "plt.plot(x,y2, \"b\")\n",
    "plt.xlabel(\"Date\")\n",
    "plt.ylabel(\"Price\")\n",
    "plt.title(\"Close market value - STOCK Daily\")\n",
    "\n",
    "plt.show()"
   ]
  },
  {
   "cell_type": "code",
   "execution_count": 39,
   "id": "ec17244a",
   "metadata": {},
   "outputs": [
    {
     "data": {
      "image/png": "[encoded data removed]",
      "text/plain": [
       "<Figure size 432x288 with 1 Axes>"
      ]
     },
     "metadata": {
      "needs_background": "light"
     },
     "output_type": "display_data"
    }
   ],
   "source": [
    "plt.hist(y2, color=\"red\")\n",
    "plt.xlabel(\"Price\")\n",
    "plt.title(\"Histogram of Close Market Value - STOCK Daily\")\n",
    "plt.grid()\n",
    "plt.show()"
   ]
  },
  {
   "cell_type": "code",
   "execution_count": null,
   "id": "5a11443e",
   "metadata": {},
   "outputs": [],
   "source": []
  }
 ],
 "metadata": {
  "kernelspec": {
   "display_name": "Python 3",
   "language": "python",
   "name": "python3"
  },
  "language_info": {
   "codemirror_mode": {
    "name": "ipython",
    "version": 3
   },
   "file_extension": ".py",
   "mimetype": "text/x-python",
   "name": "python",
   "nbconvert_exporter": "python",
   "pygments_lexer": "ipython3",
   "version": "3.8.8"
  }
 },
 "nbformat": 4,
 "nbformat_minor": 5
}
